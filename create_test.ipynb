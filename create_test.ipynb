{
 "cells": [
  {
   "cell_type": "code",
   "execution_count": 1,
   "id": "ef03cd31",
   "metadata": {},
   "outputs": [
    {
     "name": "stdout",
     "output_type": "stream",
     "text": [
      "✓ Created baseline_data.csv\n",
      "✓ Created current_data.csv\n",
      "✓ Created small_data.csv\n",
      "\n",
      "✅ All test datasets created!\n"
     ]
    }
   ],
   "source": [
    "# save as: create_test_data.py\n",
    "import pandas as pd\n",
    "import numpy as np\n",
    "\n",
    "# Test Dataset 1: Clean data (for baseline)\n",
    "df_baseline = pd.DataFrame({\n",
    "    'id': range(1, 101),\n",
    "    'name': [f'User_{i}' for i in range(1, 101)],\n",
    "    'age': np.random.randint(20, 70, 100),\n",
    "    'salary': np.random.randint(30000, 120000, 100),\n",
    "    'department': np.random.choice(['Sales', 'Engineering', 'HR', 'Marketing'], 100),\n",
    "    'score': np.random.uniform(0, 100, 100).round(2)\n",
    "})\n",
    "\n",
    "df_baseline.to_csv('baseline_data.csv', index=False)\n",
    "print(\"✓ Created baseline_data.csv\")\n",
    "\n",
    "# Test Dataset 2: Data with issues (for comparison)\n",
    "df_current = pd.DataFrame({\n",
    "    'id': range(1, 121),  # More rows\n",
    "    'name': [f'User_{i}' if i % 10 != 0 else None for i in range(1, 121)],  # Missing values\n",
    "    'age': np.random.randint(20, 70, 120),\n",
    "    'salary': np.random.randint(30000, 120000, 120),\n",
    "    'department': np.random.choice(['Sales', 'Engineering', 'HR', 'Marketing', 'IT'], 120),  # Extra category\n",
    "    'score': np.random.uniform(0, 100, 120).round(2),\n",
    "    'new_column': np.random.choice(['A', 'B', 'C'], 120)  # Extra column\n",
    "})\n",
    "\n",
    "df_current.to_csv('current_data.csv', index=False)\n",
    "print(\"✓ Created current_data.csv\")\n",
    "\n",
    "# Test Dataset 3: Small file (should fail validation)\n",
    "df_small = pd.DataFrame({\n",
    "    'col1': [1, 2, 3],  # Only 3 rows (less than MIN_ROWS=10)\n",
    "    'col2': ['a', 'b', 'c']\n",
    "})\n",
    "\n",
    "df_small.to_csv('small_data.csv', index=False)\n",
    "print(\"✓ Created small_data.csv\")\n",
    "\n",
    "print(\"\\n✅ All test datasets created!\")"
   ]
  },
  {
   "cell_type": "code",
   "execution_count": null,
   "id": "e174fe00",
   "metadata": {},
   "outputs": [],
   "source": []
  }
 ],
 "metadata": {
  "kernelspec": {
   "display_name": "venv312",
   "language": "python",
   "name": "python3"
  },
  "language_info": {
   "codemirror_mode": {
    "name": "ipython",
    "version": 3
   },
   "file_extension": ".py",
   "mimetype": "text/x-python",
   "name": "python",
   "nbconvert_exporter": "python",
   "pygments_lexer": "ipython3",
   "version": "3.12.6"
  }
 },
 "nbformat": 4,
 "nbformat_minor": 5
}
